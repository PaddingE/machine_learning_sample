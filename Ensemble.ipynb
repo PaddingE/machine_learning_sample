{
 "cells": [
  {
   "cell_type": "code",
   "execution_count": 1,
   "metadata": {},
   "outputs": [],
   "source": [
    "import numpy as np\n",
    "import pandas as pd\n",
    "from sklearn.model_selection import train_test_split\n",
    "\n",
    "## 사용할 데이터 선언\n",
    "df_wine = pd.read_csv('https://bit.ly/wine_csv_data')\n",
    "\n",
    "## 샘플과 타겟 분리\n",
    "arr_data = df_wine[['alcohol', 'sugar', 'pH']].to_numpy()\n",
    "arr_target = df_wine['class'].to_numpy()\n",
    "\n",
    "## 훈련 세트, 테스트 세트 나누기\n",
    "## 매개변수 test_size로 비율 정해주기\n",
    "arr_train_input, arr_test_input, arr_train_target, arr_test_target = train_test_split(\n",
    "    arr_data, arr_target, test_size= 0.2, random_state= 42\n",
    ")"
   ]
  },
  {
   "cell_type": "code",
   "execution_count": 2,
   "metadata": {},
   "outputs": [
    {
     "name": "stdout",
     "output_type": "stream",
     "text": [
      "0.9973541965122431 0.8905151032797809\n"
     ]
    }
   ],
   "source": [
    "## 랜덤 포레스트 알고리즘을 사용하기 위해 필요한 모듈 import\n",
    "from sklearn.model_selection import cross_validate\n",
    "from sklearn.ensemble import RandomForestClassifier\n",
    "\n",
    "## 객체 선언\n",
    "c_rf = RandomForestClassifier(n_jobs= -1, random_state= 42)\n",
    "\n",
    "## 교차 검증\n",
    "## return_train_score를 True로 하면 훈련 세트에 대한 성능도 같이 반환\n",
    "dict_scores = cross_validate(c_rf, arr_train_input, arr_train_target, return_train_score= True, n_jobs= -1)\n",
    "\n",
    "## 훈련세트와 검증세트의 성능 값들의 평균 출력\n",
    "print(np.mean(dict_scores['train_score']), np.mean(dict_scores['test_score']))"
   ]
  },
  {
   "cell_type": "code",
   "execution_count": 3,
   "metadata": {},
   "outputs": [
    {
     "name": "stdout",
     "output_type": "stream",
     "text": [
      "[0.23167441 0.50039841 0.26792718]\n"
     ]
    }
   ],
   "source": [
    "## 훈련 후 특성 중요도 확인\n",
    "c_rf.fit(arr_train_input, arr_train_target)\n",
    "print(c_rf.feature_importances_)"
   ]
  },
  {
   "cell_type": "code",
   "execution_count": 4,
   "metadata": {},
   "outputs": [
    {
     "name": "stdout",
     "output_type": "stream",
     "text": [
      "0.8934000384837406\n"
     ]
    }
   ],
   "source": [
    "## oob샘플로 훈련한 결정트리점수를 확인하기위해 매개변수 oob_score를 True로 해서 선언\n",
    "## 훈련 후 oob샘플의 점수 출력\n",
    "c_rf = RandomForestClassifier(oob_score=True, n_jobs= -1, random_state= 42)\n",
    "c_rf.fit(arr_train_input,arr_train_target)\n",
    "print(c_rf.oob_score_)"
   ]
  },
  {
   "cell_type": "code",
   "execution_count": 5,
   "metadata": {},
   "outputs": [
    {
     "name": "stdout",
     "output_type": "stream",
     "text": [
      "0.9974503966084433 0.8887848893166506\n"
     ]
    }
   ],
   "source": [
    "## 엑스트라 트리 알고리즘을 사용하기 위해 필요한 모듈 import\n",
    "from sklearn.ensemble import ExtraTreesClassifier\n",
    "\n",
    "## 객체 선언\n",
    "c_et = ExtraTreesClassifier(n_jobs= -1, random_state= 42)\n",
    "\n",
    "## 교차 검증\n",
    "dict_scores = cross_validate(c_et, arr_train_input, arr_train_target,\n",
    "                        return_train_score= True, n_jobs= -1)\n",
    "\n",
    "## 훈련세트와 검증세트의 성능 값들의 평균 출력\n",
    "print(np.mean(dict_scores['train_score']), np.mean(dict_scores['test_score']))"
   ]
  },
  {
   "cell_type": "code",
   "execution_count": 6,
   "metadata": {},
   "outputs": [
    {
     "name": "stdout",
     "output_type": "stream",
     "text": [
      "[0.20183568 0.52242907 0.27573525]\n"
     ]
    }
   ],
   "source": [
    "## 훈련 후 특성 중요도 확인\n",
    "c_et.fit(arr_train_input, arr_train_target)\n",
    "print(c_et.feature_importances_)"
   ]
  },
  {
   "cell_type": "code",
   "execution_count": 7,
   "metadata": {},
   "outputs": [
    {
     "name": "stdout",
     "output_type": "stream",
     "text": [
      "0.8881086892152563 0.8720430147331015\n"
     ]
    }
   ],
   "source": [
    "## 그래디언트 부스팅 모델을 사용하기위한 모듈 import\n",
    "from sklearn.ensemble import GradientBoostingClassifier\n",
    "\n",
    "## 객체 생성 후 교차 검증\n",
    "c_gb = GradientBoostingClassifier(random_state= 42)\n",
    "dict_scores = cross_validate(c_gb, arr_train_input, arr_train_target,\n",
    "                             return_train_score= True, n_jobs= -1)\n",
    "\n",
    "## 훈련 성능과 검증 성능 비교\n",
    "print(np.mean(dict_scores['train_score']), np.mean(dict_scores['test_score']))"
   ]
  },
  {
   "cell_type": "code",
   "execution_count": 8,
   "metadata": {},
   "outputs": [
    {
     "name": "stdout",
     "output_type": "stream",
     "text": [
      "0.9464595437171814 0.8780082549788999\n"
     ]
    }
   ],
   "source": [
    "## 결정트리개수를 기본값 100개에서 500개로, 학습률을 0.2로 설정해서 객체 생성\n",
    "c_gb = GradientBoostingClassifier(n_estimators= 500, learning_rate= 0.2,\n",
    "                                  random_state= 42)\n",
    "\n",
    "## 교차 검증\n",
    "dict_scores = cross_validate(c_gb, arr_train_input, arr_train_target,\n",
    "                             return_train_score= True, n_jobs= -1)\n",
    "\n",
    "## 훈련 성능과 검증 성능 비교\n",
    "print(np.mean(dict_scores['train_score']), np.mean(dict_scores['test_score']))"
   ]
  },
  {
   "cell_type": "code",
   "execution_count": 9,
   "metadata": {},
   "outputs": [
    {
     "name": "stdout",
     "output_type": "stream",
     "text": [
      "[0.15853457 0.68010884 0.1613566 ]\n"
     ]
    }
   ],
   "source": [
    "## 훈련 후 특성 중요도 확인\n",
    "c_gb.fit(arr_train_input, arr_train_target)\n",
    "print(c_gb.feature_importances_)"
   ]
  },
  {
   "cell_type": "code",
   "execution_count": 10,
   "metadata": {},
   "outputs": [
    {
     "name": "stdout",
     "output_type": "stream",
     "text": [
      "0.9321723946453317 0.8801241948619236\n"
     ]
    }
   ],
   "source": [
    "## 히스토그램 기반 그레이디언트 부스팅에 필요한 모듈 import\n",
    "from sklearn.ensemble import HistGradientBoostingClassifier\n",
    "\n",
    "## 객체 생성 후 교차 검증\n",
    "c_hgb = HistGradientBoostingClassifier(random_state=42)\n",
    "dict_scores = cross_validate(c_hgb, arr_train_input, arr_train_target,\n",
    "                             return_train_score=True)\n",
    "\n",
    "## 훈련 성능과 검증 성능 비교\n",
    "print(np.mean(dict_scores['train_score']), np.mean(dict_scores['test_score']))"
   ]
  },
  {
   "cell_type": "code",
   "execution_count": 11,
   "metadata": {},
   "outputs": [
    {
     "name": "stdout",
     "output_type": "stream",
     "text": [
      "[0.08876275 0.23438522 0.08027708]\n"
     ]
    }
   ],
   "source": [
    "## 히스토그램 기반 그레이디언트 부스팅의 특성 중요도를 계산하기위한 함수 import\n",
    "from sklearn.inspection import permutation_importance\n",
    "\n",
    "## 훈련 후 함수 사용해 결과값 저장\n",
    "## 함수가 반환하는 것에는 특성 중요도, 평균, 표준편차를 담고있다.\n",
    "c_hgb.fit(arr_train_input, arr_train_target)\n",
    "dict_result = permutation_importance(c_hgb, arr_train_input, arr_train_target,\n",
    "                                     n_repeats= 10, random_state= 42, n_jobs= -1)\n",
    "\n",
    "## 결과 값중에 특성 중요도 출력\n",
    "print(dict_result.importances_mean)"
   ]
  },
  {
   "cell_type": "code",
   "execution_count": 12,
   "metadata": {},
   "outputs": [
    {
     "name": "stdout",
     "output_type": "stream",
     "text": [
      "[0.05969231 0.20238462 0.049     ]\n"
     ]
    }
   ],
   "source": [
    "## 테스트 세트의 특성 중요도 확인\n",
    "dict_result = permutation_importance(c_hgb, arr_test_input, arr_test_target,\n",
    "                                     n_repeats= 10, random_state= 42, n_jobs= -1)\n",
    "\n",
    "print(dict_result.importances_mean)"
   ]
  },
  {
   "cell_type": "code",
   "execution_count": 13,
   "metadata": {},
   "outputs": [
    {
     "data": {
      "text/plain": [
       "0.8723076923076923"
      ]
     },
     "execution_count": 13,
     "metadata": {},
     "output_type": "execute_result"
    }
   ],
   "source": [
    "## 히스토그램 기반 그레이디언트 부스팅에서의 테스트 세트 성능 확인\n",
    "c_hgb.score(arr_test_input, arr_test_target)"
   ]
  },
  {
   "cell_type": "code",
   "execution_count": 14,
   "metadata": {},
   "outputs": [],
   "source": [
    "#pip install xgboost"
   ]
  },
  {
   "cell_type": "code",
   "execution_count": 15,
   "metadata": {},
   "outputs": [
    {
     "name": "stdout",
     "output_type": "stream",
     "text": [
      "0.9555033709953124 0.8799326275264677\n"
     ]
    }
   ],
   "source": [
    "## 다양한 부스팅 알고리즘을 사용하기 위해 xgboost모듈 import\n",
    "from xgboost import XGBClassifier\n",
    "\n",
    "## 객체 생성\n",
    "## tree_method매개변수로 부스팅 알고리즘 선택\n",
    "c_xgb = XGBClassifier(tree_method = 'hist', random_state = 42)\n",
    "dict_scores = cross_validate(c_xgb, arr_train_input, arr_train_target,\n",
    "                             return_train_score= True)\n",
    "\n",
    "## 훈련 성능과 검증 성능 비교\n",
    "print(np.mean(dict_scores['train_score']), np.mean(dict_scores['test_score']))"
   ]
  },
  {
   "cell_type": "code",
   "execution_count": 16,
   "metadata": {},
   "outputs": [],
   "source": [
    "#pip install lightgbm"
   ]
  },
  {
   "cell_type": "code",
   "execution_count": 18,
   "metadata": {},
   "outputs": [
    {
     "name": "stdout",
     "output_type": "stream",
     "text": [
      "0.935828414851749 0.8801251203079884\n"
     ]
    }
   ],
   "source": [
    "## 또 다른 라이브러리 모듈 import\n",
    "from lightgbm import LGBMClassifier\n",
    "\n",
    "## 객체 생성\n",
    "c_lgb = LGBMClassifier(random_state= 42)\n",
    "dict_scores = cross_validate(c_lgb, arr_train_input, arr_train_target,\n",
    "                             return_train_score= True, n_jobs= -1)\n",
    "\n",
    "## 훈련 성능과 검증 성능 비교\n",
    "print(np.mean(dict_scores['train_score']), np.mean(dict_scores['test_score']))"
   ]
  }
 ],
 "metadata": {
  "kernelspec": {
   "display_name": "pandas_sample",
   "language": "python",
   "name": "python3"
  },
  "language_info": {
   "codemirror_mode": {
    "name": "ipython",
    "version": 3
   },
   "file_extension": ".py",
   "mimetype": "text/x-python",
   "name": "python",
   "nbconvert_exporter": "python",
   "pygments_lexer": "ipython3",
   "version": "3.11.3"
  },
  "orig_nbformat": 4
 },
 "nbformat": 4,
 "nbformat_minor": 2
}
