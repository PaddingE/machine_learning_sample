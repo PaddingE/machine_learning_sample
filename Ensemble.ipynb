{
 "cells": [
  {
   "cell_type": "code",
   "execution_count": 12,
   "metadata": {},
   "outputs": [],
   "source": [
    "import numpy as np\n",
    "import pandas as pd\n",
    "from sklearn.model_selection import train_test_split\n",
    "\n",
    "## 사용할 데이터 선언\n",
    "df_wine = pd.read_csv('https://bit.ly/wine_csv_data')\n",
    "\n",
    "## 샘플과 타겟 분리\n",
    "arr_data = df_wine[['alcohol', 'sugar', 'pH']].to_numpy()\n",
    "arr_target = df_wine['class'].to_numpy()\n",
    "\n",
    "## 훈련 세트, 테스트 세트 나누기\n",
    "## 매개변수 test_size로 비율 정해주기\n",
    "arr_train_input, arr_test_input, arr_train_target, arr_test_target = train_test_split(\n",
    "    arr_data, arr_target, test_size= 0.2, random_state= 42\n",
    ")"
   ]
  },
  {
   "cell_type": "code",
   "execution_count": 13,
   "metadata": {},
   "outputs": [
    {
     "name": "stdout",
     "output_type": "stream",
     "text": [
      "0.9973541965122431 0.8905151032797809\n"
     ]
    }
   ],
   "source": [
    "## 랜덤 포레스트 알고리즘을 사용하기 위해 필요한 모듈 import\n",
    "from sklearn.model_selection import cross_validate\n",
    "from sklearn.ensemble import RandomForestClassifier\n",
    "\n",
    "## 객체 선언\n",
    "c_rf = RandomForestClassifier(n_jobs= -1, random_state= 42)\n",
    "\n",
    "## 교차 검증\n",
    "## return_train_score를 True로 하면 훈련 세트에 대한 성능도 같이 반환\n",
    "dict_scores = cross_validate(c_rf, arr_train_input, arr_train_target, return_train_score= True, n_jobs= -1)\n",
    "\n",
    "## 훈련세트와 검증세트의 성능 값들의 평균 출력\n",
    "print(np.mean(dict_scores['train_score']), np.mean(dict_scores['test_score']))"
   ]
  },
  {
   "cell_type": "code",
   "execution_count": 14,
   "metadata": {},
   "outputs": [
    {
     "name": "stdout",
     "output_type": "stream",
     "text": [
      "[0.23167441 0.50039841 0.26792718]\n"
     ]
    }
   ],
   "source": [
    "## 훈련 후 특성 중요도 확인\n",
    "c_rf.fit(arr_train_input, arr_train_target)\n",
    "print(c_rf.feature_importances_)"
   ]
  },
  {
   "cell_type": "code",
   "execution_count": 15,
   "metadata": {},
   "outputs": [
    {
     "name": "stdout",
     "output_type": "stream",
     "text": [
      "0.8934000384837406\n"
     ]
    }
   ],
   "source": [
    "## oob샘플로 훈련한 결정트리점수를 확인하기위해 매개변수 oob_score를 True로 해서 선언\n",
    "## 훈련 후 oob샘플의 점수 출력\n",
    "c_rf = RandomForestClassifier(oob_score=True, n_jobs= -1, random_state= 42)\n",
    "c_rf.fit(arr_train_input,arr_train_target)\n",
    "print(c_rf.oob_score_)"
   ]
  },
  {
   "cell_type": "code",
   "execution_count": 16,
   "metadata": {},
   "outputs": [
    {
     "name": "stdout",
     "output_type": "stream",
     "text": [
      "0.9974503966084433 0.8887848893166506\n"
     ]
    }
   ],
   "source": [
    "## 엑스트라 트리 알고리즘을 사용하기 위해 필요한 모듈 import\n",
    "from sklearn.ensemble import ExtraTreesClassifier\n",
    "\n",
    "## 객체 선언\n",
    "c_et = ExtraTreesClassifier(n_jobs= -1, random_state= 42)\n",
    "\n",
    "## 교차 검증\n",
    "dict_scores = cross_validate(c_et, arr_train_input, arr_train_target,\n",
    "                        return_train_score= True, n_jobs= -1)\n",
    "\n",
    "## 훈련세트와 검증세트의 성능 값들의 평균 출력\n",
    "print(np.mean(dict_scores['train_score']), np.mean(dict_scores['test_score']))"
   ]
  },
  {
   "cell_type": "code",
   "execution_count": 17,
   "metadata": {},
   "outputs": [
    {
     "name": "stdout",
     "output_type": "stream",
     "text": [
      "[0.20183568 0.52242907 0.27573525]\n"
     ]
    }
   ],
   "source": [
    "## 훈련 후 특성 중요도 확인\n",
    "c_et.fit(arr_train_input, arr_train_target)\n",
    "print(c_et.feature_importances_)"
   ]
  }
 ],
 "metadata": {
  "kernelspec": {
   "display_name": "pandas_sample",
   "language": "python",
   "name": "python3"
  },
  "language_info": {
   "codemirror_mode": {
    "name": "ipython",
    "version": 3
   },
   "file_extension": ".py",
   "mimetype": "text/x-python",
   "name": "python",
   "nbconvert_exporter": "python",
   "pygments_lexer": "ipython3",
   "version": "3.11.3"
  },
  "orig_nbformat": 4
 },
 "nbformat": 4,
 "nbformat_minor": 2
}
